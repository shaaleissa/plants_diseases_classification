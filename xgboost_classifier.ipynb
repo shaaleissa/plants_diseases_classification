{
 "cells": [
  {
   "cell_type": "code",
   "execution_count": null,
   "id": "1bacfa4a",
   "metadata": {},
   "outputs": [],
   "source": [
    "import numpy as np \n",
    "import matplotlib.pyplot as plt\n",
    "import glob\n",
    "import cv2"
   ]
  },
  {
   "cell_type": "code",
   "execution_count": null,
   "id": "9b23869c",
   "metadata": {},
   "outputs": [],
   "source": [
    "from keras.models import Model, Sequential\n",
    "from keras.layers import Dense, Flatten, Conv2D, MaxPooling2D\n",
    "from keras.layers import BatchNormalization\n",
    "import os\n",
    "from keras.applications.vgg16 import VGG16\n",
    "import seaborn as sns\n"
   ]
  },
  {
   "cell_type": "code",
   "execution_count": null,
   "id": "e3f6c1ec",
   "metadata": {},
   "outputs": [],
   "source": [
    "# Reading input images and assigning labels based on folder names\n",
    "print(os.listdir(\"data/Plants_2\"))\n",
    "\n",
    "SIZE = (200,300)  #Resize images\n",
    "\n",
    "#Capturing training data and labels into respective lists\n",
    "train_images = []\n",
    "train_labels = [] \n",
    "dir = 'data/resized/train'\n",
    "\n",
    "\n",
    "for label in os.listdir(dir):\n",
    "    label_path = os.path.join(dir, label)\n",
    "    print(label)\n",
    "    for img_path in glob.glob(os.path.join(label_path, \"*.JPG\")):\n",
    "        print('inside')    \n",
    "        print(img_path)\n",
    "        img = cv2.imread(img_path, cv2.IMREAD_COLOR)       \n",
    "        img = cv2.cvtColor(img, cv2.COLOR_RGB2BGR)\n",
    "        train_images.append(img)\n",
    "        train_labels.append(label)\n"
   ]
  },
  {
   "cell_type": "code",
   "execution_count": null,
   "id": "2bb1452b",
   "metadata": {},
   "outputs": [],
   "source": [
    "print(len(train_images))\n",
    "print(len(train_labels))"
   ]
  },
  {
   "cell_type": "code",
   "execution_count": null,
   "id": "c4b3da60",
   "metadata": {},
   "outputs": [],
   "source": [
    "#Converting lists to arrays        \n",
    "train_images = np.array(train_images)\n",
    "train_labels = np.array(train_labels)\n"
   ]
  },
  {
   "cell_type": "code",
   "execution_count": null,
   "id": "8e409cb6",
   "metadata": {},
   "outputs": [],
   "source": [
    "import os\n",
    "import cv2\n",
    "\n",
    "test_images = []\n",
    "test_labels = [] \n",
    "test_dir = 'data/resized/valid'\n",
    "\n",
    "\n",
    "for label in os.listdir(test_dir):\n",
    "    if label == \".DS_Store\":\n",
    "        continue\n",
    "    label_path = os.path.join(test_dir, label)\n",
    "    print(label)\n",
    "    for img_file in os.listdir(label_path):\n",
    "        if img_file.endswith(('.JPG', '.jpeg')):\n",
    "            img_path = os.path.join(label_path, img_file)\n",
    "            img = cv2.imread(img_path, cv2.IMREAD_COLOR)       \n",
    "            img = cv2.cvtColor(img, cv2.COLOR_RGB2BGR)\n",
    "            test_images.append(img)\n",
    "            test_labels.append(label)\n",
    "            print(test_labels)\n",
    "\n",
    "if len(test_images) == 0:\n",
    "    print(\"No test images found in directory:\", test_dir)\n",
    "else:\n",
    "    print(\"Test images and labels loaded successfully.\")\n",
    "\n",
    "\n",
    "\n"
   ]
  },
  {
   "cell_type": "code",
   "execution_count": null,
   "id": "b1953475",
   "metadata": {},
   "outputs": [],
   "source": [
    "print(len(test_images))\n",
    "print(len(test_labels))"
   ]
  },
  {
   "cell_type": "code",
   "execution_count": null,
   "id": "19d3b0dc",
   "metadata": {},
   "outputs": [],
   "source": [
    "#Converting lists to arrays                \n",
    "test_images = np.array(test_images)\n",
    "test_labels = np.array(test_labels)"
   ]
  },
  {
   "cell_type": "code",
   "execution_count": null,
   "id": "cb073331",
   "metadata": {},
   "outputs": [],
   "source": [
    "#Encode labels from text to integers.\n",
    "from sklearn import preprocessing\n",
    "le = preprocessing.LabelEncoder()\n",
    "le.fit(test_labels)\n",
    "test_labels_encoded = le.transform(test_labels)\n",
    "le.fit(train_labels)\n",
    "train_labels_encoded = le.transform(train_labels)\n"
   ]
  },
  {
   "cell_type": "code",
   "execution_count": null,
   "id": "671c4966",
   "metadata": {},
   "outputs": [],
   "source": [
    "\n",
    "\n",
    "#Split data into test and train datasets (already split but assigning to meaningful convention)\n",
    "x_train, y_train, x_test, y_test = train_images, train_labels_encoded, test_images, test_labels_encoded\n",
    "\n",
    "# Normalize pixel values to between 0 and 1\n",
    "x_train, x_test = x_train / 255.0, x_test / 255.0\n"
   ]
  },
  {
   "cell_type": "code",
   "execution_count": null,
   "id": "0e016155",
   "metadata": {},
   "outputs": [],
   "source": [
    "\n",
    "#Loading model wothout classifier/fully connected layers\n",
    "VGG_model = VGG16(weights='imagenet', include_top=False, input_shape=(224,224, 3))\n",
    "\n",
    "#Make loaded layers as non-trainable. This is important as we want to work with pre-trained weights\n",
    "for layer in VGG_model.layers:\n",
    "\tlayer.trainable = False\n",
    "    \n",
    "VGG_model.summary()  #Trainable parameters will be 0\n",
    "\n"
   ]
  },
  {
   "cell_type": "code",
   "execution_count": null,
   "id": "e54b0783",
   "metadata": {},
   "outputs": [],
   "source": [
    "\n",
    "#Now, let us use features from convolutional network for RF\n",
    "feature_extractor=VGG_model.predict(x_train)\n",
    "\n",
    "features = feature_extractor.reshape(feature_extractor.shape[0], -1)\n",
    "\n",
    "X_for_training = features #This is our X input to RF\n"
   ]
  },
  {
   "cell_type": "code",
   "execution_count": null,
   "id": "d21906e3",
   "metadata": {},
   "outputs": [],
   "source": [
    "import xgboost as xgb\n",
    "model = xgb.XGBClassifier()\n",
    "model.fit(X_for_training, y_train) #For sklearn no one hot encoding\n",
    "\n",
    "#Send test data through same feature extractor process\n",
    "X_test_feature = VGG_model.predict(x_test)\n",
    "X_test_features = X_test_feature.reshape(X_test_feature.shape[0], -1)\n"
   ]
  },
  {
   "cell_type": "code",
   "execution_count": null,
   "id": "e00cf18c",
   "metadata": {},
   "outputs": [],
   "source": [
    "\n",
    "#Now predict using the trained RF model. \n",
    "prediction = model.predict(X_test_features)\n",
    "#Inverse le transform to get original label back. \n",
    "prediction = le.inverse_transform(prediction)"
   ]
  },
  {
   "cell_type": "code",
   "execution_count": null,
   "id": "a65ab4e4",
   "metadata": {},
   "outputs": [],
   "source": [
    "\n",
    "#Print overall accuracy\n",
    "from sklearn import metrics\n",
    "print (\"Accuracy = \", metrics.accuracy_score(test_labels, prediction))\n",
    "\n",
    "#Confusion Matrix - verify accuracy of each class\n",
    "from sklearn.metrics import confusion_matrix\n",
    "\n",
    "cm = confusion_matrix(test_labels, prediction)\n",
    "#print(cm)\n",
    "sns.heatmap(cm, annot=True)\n",
    "\n",
    "#Check results on a few select images\n",
    "n=np.random.randint(0, x_test.shape[0])\n",
    "img = x_test[n]\n",
    "plt.imshow(img)\n",
    "input_img = np.expand_dims(img, axis=0) #Expand dims so the input is (num images, x, y, c)\n",
    "input_img_feature=VGG_model.predict(input_img)\n",
    "input_img_features=input_img_feature.reshape(input_img_feature.shape[0], -1)\n",
    "prediction = model.predict(input_img_features)[0] \n",
    "prediction = le.inverse_transform([prediction])  #Reverse the label encoder to original name\n",
    "print(\"The prediction for this image is: \", prediction)\n",
    "print(\"The actual label for this image is: \", test_labels[n])"
   ]
  },
  {
   "cell_type": "code",
   "execution_count": null,
   "id": "4e7d8d1d",
   "metadata": {},
   "outputs": [],
   "source": [
    "from sklearn.metrics import classification_report\n",
    "\n",
    "# ...\n",
    "\n",
    "# Now predict using the trained RF model\n",
    "prediction = model.predict(X_test_features)\n",
    "\n",
    "# Inverse le transform to get the original label back\n",
    "prediction = le.inverse_transform(prediction)\n",
    "\n",
    "# Print overall accuracy\n",
    "accuracy = metrics.accuracy_score(test_labels, prediction)\n",
    "print(\"Accuracy =\", accuracy)\n",
    "\n",
    "# Generate the classification report\n",
    "report = classification_report(test_labels, prediction)\n",
    "\n",
    "# Print the classification report\n",
    "print(report)\n"
   ]
  },
  {
   "cell_type": "code",
   "execution_count": null,
   "id": "245bc45b",
   "metadata": {},
   "outputs": [],
   "source": [
    "from sklearn.metrics import accuracy_score\n",
    "\n",
    "# Compute accuracy for each class\n",
    "accuracy = accuracy_score(test_labels, prediction)\n",
    "\n",
    "# Print class-wise accuracy\n",
    "print(\"Class-wise Accuracy:\")\n",
    "for i, label in enumerate(le.classes_):\n",
    "    class_accuracy = accuracy_score(test_labels[test_labels == label], prediction[test_labels == label])\n",
    "    print(f\"{label}: {class_accuracy}\")\n"
   ]
  },
  {
   "cell_type": "code",
   "execution_count": null,
   "id": "e26df46c",
   "metadata": {},
   "outputs": [],
   "source": [
    "import matplotlib.pyplot as plt\n",
    "\n",
    "# Compute class-wise accuracy\n",
    "class_accuracy = []\n",
    "for label in le.classes_:\n",
    "    acc = accuracy_score(test_labels[test_labels == label], prediction[test_labels == label])\n",
    "    class_accuracy.append(acc)\n",
    "\n",
    "# Plot the bar plot\n",
    "plt.figure(figsize=(10, 6))\n",
    "plt.bar(le.classes_, class_accuracy)\n",
    "plt.xlabel('Class')\n",
    "plt.ylabel('Accuracy')\n",
    "plt.title('Class-wise Accuracy')\n",
    "plt.xticks(rotation=90)\n",
    "plt.show()\n",
    "\n"
   ]
  },
  {
   "cell_type": "code",
   "execution_count": null,
   "id": "f69a5bf3",
   "metadata": {},
   "outputs": [],
   "source": [
    "from sklearn.metrics import roc_curve, auc\n",
    "\n",
    "# Compute the probabilities for each class\n",
    "prob = model.predict_proba(X_test_features)\n",
    "\n",
    "# Compute the ROC curve and AUC for each class\n",
    "fpr = dict()\n",
    "tpr = dict()\n",
    "roc_auc = dict()\n",
    "for i, label in enumerate(le.classes_):\n",
    "    fpr[label], tpr[label], _ = roc_curve(test_labels_encoded, prob[:, i], pos_label=i)\n",
    "    roc_auc[label] = auc(fpr[label], tpr[label])\n",
    "\n",
    "# Plot the ROC curves\n",
    "plt.figure(figsize=(10, 6))\n",
    "for label in le.classes_:\n",
    "    plt.plot(fpr[label], tpr[label], label=f\"{label} (AUC = {roc_auc[label]:.2f})\")\n",
    "plt.plot([0, 1], [0, 1], 'k--')\n",
    "plt.xlim([0.0, 1.0])\n",
    "plt.ylim([0.0, 1.05])\n",
    "plt.xlabel('False Positive Rate')\n",
    "plt.ylabel('True Positive Rate')\n",
    "plt.title('ROC Curve')\n",
    "plt.legend(loc='lower right')\n",
    "plt.show()\n"
   ]
  }
 ],
 "metadata": {
  "kernelspec": {
   "display_name": "Python 3 (ipykernel)",
   "language": "python",
   "name": "python3"
  },
  "language_info": {
   "codemirror_mode": {
    "name": "ipython",
    "version": 3
   },
   "file_extension": ".py",
   "mimetype": "text/x-python",
   "name": "python",
   "nbconvert_exporter": "python",
   "pygments_lexer": "ipython3",
   "version": "3.9.12"
  }
 },
 "nbformat": 4,
 "nbformat_minor": 5
}
